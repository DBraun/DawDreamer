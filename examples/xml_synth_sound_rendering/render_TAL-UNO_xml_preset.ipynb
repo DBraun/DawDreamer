{
 "cells": [
  {
   "cell_type": "code",
   "execution_count": null,
   "metadata": {},
   "outputs": [],
   "source": [
    "# import modules\n",
    "import dawdreamer as daw\n",
    "import numpy as np\n",
    "import os\n",
    "from scipy.io.wavfile import write\n",
    "from utils import *"
   ]
  },
  {
   "cell_type": "code",
   "execution_count": null,
   "metadata": {},
   "outputs": [],
   "source": [
    "# define constants\n",
    "SAMPLE_RATE = 22050\n",
    "BLOCK_SIZE = 128 # Parameters will undergo automation at this buffer/block size.\n",
    "SYNTH_NAME = \"TAL-Uno\"\n",
    "\n",
    "import platform\n",
    "if platform.system() == \"Windows\":\n",
    "    SYNTH_PLUGIN = \"C:/VSTPlugins/TAL-U-NO-LX-V2-64.dll\"\n",
    "    PRESET_FOLDER = \"~/AppData/Roaming/ToguAudioLine/TAL-U-No-LX/presets\"\n",
    "elif platform.system() == \"Darwin\":\n",
    "    SYNTH_PLUGIN = \"/Library/Audio/Plug-Ins/VST3/TAL-U-NO-LX-V2.vst3\"  # extensions: .dll, .vst3, .vst, .component\n",
    "    PRESET_FOLDER = \"~/Library/Application Support/ToguAudioLine/TAL-U-No-LX/presets\"\n",
    "else:\n",
    "    raise ValueError(\"This notebook hasn't been tested on Linux yet.\")\n",
    "\n",
    "PRESET_EXT = \".pjunoxl\"\n",
    "SUSTAIN_DUR = 3  # in seconds\n",
    "DURATION = 5  # in seconds\n",
    "NOTE = 'A4'  # Western Scale\n",
    "PRESET_FOLDER = os.path.expanduser(PRESET_FOLDER)"
   ]
  },
  {
   "cell_type": "code",
   "execution_count": null,
   "metadata": {},
   "outputs": [],
   "source": [
    "# create a RenderEngine\n",
    "engine = daw.RenderEngine(sample_rate=SAMPLE_RATE, block_size=BLOCK_SIZE)\n",
    "\n",
    "# create the plugin projessor\n",
    "plugin = engine.make_plugin_processor(SYNTH_NAME, SYNTH_PLUGIN)"
   ]
  },
  {
   "cell_type": "code",
   "execution_count": null,
   "metadata": {},
   "outputs": [],
   "source": [
    "# randomly select a preset from the preset folder\n",
    "preset_path = select_preset_path(PRESET_FOLDER,PRESET_EXT)"
   ]
  },
  {
   "cell_type": "code",
   "execution_count": null,
   "metadata": {},
   "outputs": [],
   "source": [
    "# create JSON parameter map and save it\n",
    "json_file_name = make_json_parameter_mapping(plugin, preset_path, verbose=False)"
   ]
  },
  {
   "cell_type": "code",
   "execution_count": null,
   "metadata": {},
   "outputs": [],
   "source": [
    "# apply the synth preset settings to the synth plugin processor object\n",
    "loaded_preset_synth = load_xml_preset(plugin, json_file_name)"
   ]
  },
  {
   "cell_type": "code",
   "execution_count": null,
   "metadata": {},
   "outputs": [],
   "source": [
    "# convert the piano note to midi (0 to 127)\n",
    "midi_note = piano_note_to_midi_note(NOTE)\n",
    "\n",
    "# generate a sound using the plugin\n",
    "velocity = 60\n",
    "loaded_preset_synth.add_midi_note(midi_note, velocity, 0.0, SUSTAIN_DUR)\n",
    "\n",
    "engine.load_graph([(loaded_preset_synth, [])])\n",
    "\n",
    "# loaded_preset_synth.open_editor()\n",
    "engine.render(DURATION)\n",
    "\n",
    "audio = engine.get_audio()"
   ]
  },
  {
   "cell_type": "code",
   "execution_count": null,
   "metadata": {},
   "outputs": [],
   "source": [
    "# make the diectory if it doesn't exist\n",
    "os.makedirs('output', exist_ok=True)\n",
    "\n",
    "# write the output to a WAV file\n",
    "out_name = json_file_name.split(os.sep)[-1].split('json')[0]\n",
    "write(f'output{os.sep}{out_name}-d{DURATION}-{NOTE}.wav', SAMPLE_RATE, audio[0,:])\n",
    "\n",
    "# get the spectrogram\n",
    "spec = audio2mel_spectrogram(audio_folder_path=f'output', plot_flag=True, zero_padding_factor=1, range_db=80,\n",
    "                             gain_db=20, n_mels=128, f_max=4096)"
   ]
  },
  {
   "cell_type": "code",
   "execution_count": null,
   "metadata": {},
   "outputs": [],
   "source": []
  }
 ],
 "metadata": {
  "kernelspec": {
   "display_name": "Python 3 (ipykernel)",
   "language": "python",
   "name": "python3"
  },
  "language_info": {
   "codemirror_mode": {
    "name": "ipython",
    "version": 3
   },
   "file_extension": ".py",
   "mimetype": "text/x-python",
   "name": "python",
   "nbconvert_exporter": "python",
   "pygments_lexer": "ipython3",
   "version": "3.11.1"
  },
  "vscode": {
   "interpreter": {
    "hash": "6947268d801286644aa606ce5873de7c618a991e1c50a7cf64b46ea54e097eb2"
   }
  }
 },
 "nbformat": 4,
 "nbformat_minor": 2
}
